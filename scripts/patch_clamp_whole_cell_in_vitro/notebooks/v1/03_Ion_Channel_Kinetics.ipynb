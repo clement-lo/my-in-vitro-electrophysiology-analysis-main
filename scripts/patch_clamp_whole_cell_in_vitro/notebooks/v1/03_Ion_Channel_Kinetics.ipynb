{
 "cells": [
  {
   "cell_type": "markdown",
   "metadata": {},
   "source": [
    "# Ion Channel Kinetics Analysis\n",
    "\n",
    "## Introduction\n",
    "This Jupyter Notebook provides a comprehensive workflow for analyzing ion channel kinetics using conductance-based models such as Hodgkin-Huxley. The analysis involves simulating ion channel currents, calculating key properties like activation/inactivation curves, and visualizing current-voltage (I-V) and conductance curves."
   ]
  },
  {
   "cell_type": "markdown",
   "metadata": {},
   "source": [
    "## Import Libraries\n",
    "Import the necessary Python libraries for data manipulation, analysis, and visualization."
   ]
  },
  {
   "cell_type": "code",
   "execution_count": null,
   "metadata": {},
   "outputs": [],
   "source": [
    "import numpy as np\n",
    "import matplotlib.pyplot as plt\n",
    "from scipy.optimize import curve_fit\n",
    "import os"
   ]
  },
  {
   "cell_type": "markdown",
   "metadata": {},
   "source": [
    "## Simulate Ion Channel Kinetics\n",
    "Define a function to simulate ion channel kinetics using a conductance-based model like Hodgkin-Huxley. The function will simulate ionic currents based on given membrane voltages and model parameters."
   ]
  },
  {
   "cell_type": "code",
   "execution_count": null,
   "metadata": {},
   "outputs": [],
   "source": [
    "def simulate_ion_channel_kinetics(voltage_range, g_max, e_rev, model='hh'):\n",
    "    \"\"\"\n",
    "    Simulate ion channel kinetics using conductance-based models.\n",
    "\n",
    "    Args:\n",
    "        voltage_range (ndarray): Array of membrane voltages (in mV) for the simulation.\n",
    "        g_max (float): Maximum conductance of the ion channel (in µS).\n",
    "        e_rev (float): Reversal potential of the ion channel (in mV).\n",
    "        model (str): The model to use for simulation ('hh' for Hodgkin-Huxley).\n",
    "\n",
    "    Returns:\n",
    "        i_ion (ndarray): Simulated ionic currents for each voltage in voltage_range.\n",
    "    \"\"\"\n",
    "    # Validate model type\n",
    "    if model != 'hh':\n",
    "        raise ValueError(\"Currently, only the Hodgkin-Huxley (hh) model is supported.\")\n",
    "\n",
    "    # Hodgkin-Huxley model parameters for sodium (Na) and potassium (K) channels\n",
    "    def alpha_m(v): return 0.1 * (v + 40) / (1 - np.exp(-(v + 40) / 10))\n",
    "    def beta_m(v): return 4 * np.exp(-(v + 65) / 18)\n",
    "    def alpha_h(v): return 0.07 * np.exp(-(v + 65) / 20)\n",
    "    def beta_h(v): return 1 / (1 + np.exp(-(v + 35) / 10))\n",
    "    def alpha_n(v): return 0.01 * (v + 55) / (1 - np.exp(-(v + 55) / 10))\n",
    "    def beta_n(v): return 0.125 * np.exp(-(v + 65) / 80)\n",
    "\n",
    "    # Initialize variables for gating variables and current\n",
    "    m = 0.05\n",
    "    h = 0.6\n",
    "    n = 0.32\n",
    "    dt = 0.01  # Time step for simulation\n",
    "    i_ion = np.zeros_like(voltage_range)\n",
    "\n",
    "    # Simulate ionic current for each voltage in the range\n",
    "    for i, v in enumerate(voltage_range):\n",
    "        # Update gating variables\n",
    "        m += dt * (alpha_m(v) * (1 - m) - beta_m(v) * m)\n",
    "        h += dt * (alpha_h(v) * (1 - h) - beta_h(v) * h)\n",
    "        n += dt * (alpha_n(v) * (1 - n) - beta_n(v) * n)\n",
    "\n",
    "        # Calculate ionic current using Hodgkin-Huxley equations\n",
    "        g_na = g_max * (m ** 3) * h  # Sodium conductance\n",
    "        g_k = g_max * (n ** 4)       # Potassium conductance\n",
    "        i_na = g_na * (v - e_rev)    # Sodium current\n",
    "        i_k = g_k * (v - e_rev)      # Potassium current\n",
    "        i_ion[i] = i_na + i_k\n",
    "\n",
    "    return i_ion\n",
    "\n",
    "# Example Usage\n",
    "voltage_range = np.arange(-80, 60, 1)  # Membrane voltage range (in mV)\n",
    "g_max = 120.0  # Maximum conductance (in µS)\n",
    "e_rev = -65.0  # Reversal potential (in mV)\n",
    "\n",
    "try:\n",
    "    i_ion = simulate_ion_channel_kinetics(voltage_range, g_max, e_rev, model='hh')\n",
    "    print(\"Simulation completed successfully.\")\n",
    "except Exception as e:\n",
    "    print(f\"Error in simulation: {e}\")"
   ]
  },
  {
   "cell_type": "markdown",
   "metadata": {},
   "source": [
    "## Plot the Current-Voltage (I-V) Relationship\n",
    "Define a function to plot the current-voltage (I-V) relationship for the simulated ion channel kinetics."
   ]
  },
  {
   "cell_type": "code",
   "execution_count": null,
   "metadata": {},
   "outputs": [],
   "source": [
    "def plot_iv_curve(voltage_range, i_ion):\n",
    "    \"\"\"\n",
    "    Plot the current-voltage (I-V) relationship for ion channel kinetics.\n",
    "\n",
    "    Args:\n",
    "        voltage_range (ndarray): Array of membrane voltages (in mV).\n",
    "        i_ion (ndarray): Simulated ionic currents for each voltage in voltage_range.\n",
    "    \"\"\"\n",
    "    plt.figure(figsize=(8, 6))\n",
    "    plt.plot(voltage_range, i_ion, label='Ionic Current')\n",
    "    plt.xlabel('Membrane Voltage (mV)')\n",
    "    plt.ylabel('Ionic Current (µA)')\n",
    "    plt.title('Current-Voltage (I-V) Relationship')\n",
    "    plt.legend()\n",
    "    plt.grid(True)\n",
    "    plt.show()\n",
    "\n",
    "# Plot I-V Curve\n",
    "try:\n",
    "    plot_iv_curve(voltage_range, i_ion)\n",
    "except Exception as e:\n",
    "    print(f\"Error in plotting I-V curve: {e}\")"
   ]
  },
  {
   "cell_type": "markdown",
   "metadata": {},
   "source": [
    "## Calculate and Plot Conductance Curves\n",
    "Define a function to calculate and plot the conductance curve derived from the simulated ionic currents."
   ]
  },
  {
   "cell_type": "code",
   "execution_count": null,
   "metadata": {},
   "outputs": [],
   "source": [
    "def plot_conductance_curve(voltage_range, i_ion, e_rev):\n",
    "    \"\"\"\n",
    "    Plot the conductance curve for ion channel kinetics.\n",
    "\n",
    "    Args:\n",
    "        voltage_range (ndarray): Array of membrane voltages (in mV).\n",
    "        i_ion (ndarray): Simulated ionic currents for each voltage in voltage_range.\n",
    "        e_rev (float): Reversal potential of the ion channel (in mV).\n",
    "    \"\"\"\n",
    "    conductance = i_ion / (voltage_range - e_rev)  # Conductance calculation\n",
    "    plt.figure(figsize=(8, 6))\n",
    "    plt.plot(voltage_range, conductance, label='Conductance (g)')\n",
    "    plt.xlabel('Membrane Voltage (mV)')\n",
    "    plt.ylabel('Conductance (µS)')\n",
    "    plt.title('Conductance Curve')\n",
    "    plt.legend()\n",
    "    plt.grid(True)\n",
    "    plt.show()\n",
    "\n",
    "# Plot Conductance Curve\n",
    "try:\n",
    "    plot_conductance_curve(voltage_range, i_ion, e_rev)\n",
    "except Exception as e:\n",
    "    print(f\"Error in plotting conductance curve: {e}\")\n"
   ]
  },
  {
   "cell_type": "markdown",
   "metadata": {},
   "source": [
    "## Conclusion\n",
    "This notebook provides an interactive environment for analyzing ion channel kinetics using conductance-based models such as Hodgkin-Huxley. Adjust parameters like maximum conductance and reversal potential to explore different ion channel behaviors. Future extensions could include additional models or more complex gating dynamics."
   ]
  }
 ],
 "metadata": {
  "language_info": {
   "name": "python"
  }
 },
 "nbformat": 4,
 "nbformat_minor": 2
}
