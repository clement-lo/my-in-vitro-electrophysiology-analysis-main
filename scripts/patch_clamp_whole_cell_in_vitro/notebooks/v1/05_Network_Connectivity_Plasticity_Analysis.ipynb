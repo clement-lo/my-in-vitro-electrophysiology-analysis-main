{
 "cells": [
  {
   "cell_type": "markdown",
   "metadata": {},
   "source": [
    "# Network Connectivity and Plasticity Analysis\n",
    "\n",
    "## Introduction\n",
    "This Jupyter Notebook provides a comprehensive workflow for analyzing network connectivity and synaptic plasticity. The analysis includes simulating network connectivity, computing graph theory metrics, simulating synaptic plasticity phenomena like long-term potentiation (LTP"
   ]
  },
  {
   "cell_type": "markdown",
   "metadata": {},
   "source": [
    "## Import Libraries\n",
    "Import the necessary Python libraries for data manipulation, analysis, and visualization."
   ]
  },
  {
   "cell_type": "code",
   "execution_count": null,
   "metadata": {},
   "outputs": [],
   "source": [
    "import numpy as np\n",
    "import matplotlib.pyplot as plt\n",
    "import networkx as nx"
   ]
  },
  {
   "cell_type": "markdown",
   "metadata": {},
   "source": [
    "## Simulate Network Connectivity\n",
    "Define a function to simulate a random network connectivity using the Erdős-Rényi model. The function will create a network with a specified number of neurons and connection probability."
   ]
  },
  {
   "cell_type": "code",
   "execution_count": null,
   "metadata": {},
   "outputs": [],
   "source": [
    "def simulate_network(n_neurons, connection_prob):\n",
    "    \"\"\"\n",
    "    Simulate a random network connectivity using an Erdős-Rényi model.\n",
    "\n",
    "    Args:\n",
    "        n_neurons (int): Number of neurons (nodes) in the network.\n",
    "        connection_prob (float): Probability of connection between any two neurons.\n",
    "\n",
    "    Returns:\n",
    "        G (Graph): A NetworkX graph object representing the network.\n",
    "    \"\"\"\n",
    "    # Generate a random graph using Erdős-Rényi model\n",
    "    G = nx.erdos_renyi_graph(n_neurons, connection_prob)\n",
    "    return G\n",
    "\n",
    "# Example Usage\n",
    "n_neurons = 10  # Number of neurons\n",
    "connection_prob = 0.3  # Connection probability\n",
    "\n",
    "try:\n",
    "    G = simulate_network(n_neurons, connection_prob)\n",
    "    print(\"Network simulation completed successfully.\")\n",
    "except Exception as e:\n",
    "    print(f\"Error in network simulation: {e}\")"
   ]
  },
  {
   "cell_type": "markdown",
   "metadata": {},
   "source": [
    "## Compute Network Connectivity Metrics\n",
    "\n",
    "Define a function to compute network connectivity metrics such as average degree, clustering coefficient, and average path length."
   ]
  },
  {
   "cell_type": "code",
   "execution_count": null,
   "metadata": {},
   "outputs": [],
   "source": [
    "def compute_connectivity_metrics(G):\n",
    "    \"\"\"\n",
    "    Compute network connectivity metrics such as degree, clustering coefficient, and path length.\n",
    "\n",
    "    Args:\n",
    "        G (Graph): A NetworkX graph object representing the network.\n",
    "\n",
    "    Returns:\n",
    "        metrics (dict): Dictionary containing network metrics (degree, clustering coefficient, path length).\n",
    "    \"\"\"\n",
    "    # Calculate degree distribution\n",
    "    degree = dict(G.degree())\n",
    "    avg_degree = np.mean(list(degree.values()))\n",
    "    \n",
    "    # Calculate clustering coefficient\n",
    "    clustering_coeff = nx.average_clustering(G)\n",
    "    \n",
    "    # Calculate average shortest path length\n",
    "    if nx.is_connected(G):\n",
    "        avg_path_length = nx.average_shortest_path_length(G)\n",
    "    else:\n",
    "        avg_path_length = np.nan  # Not defined for disconnected graphs\n",
    "\n",
    "    metrics = {\n",
    "        'Average Degree': avg_degree,\n",
    "        'Clustering Coefficient': clustering_coeff,\n",
    "        'Average Path Length': avg_path_length\n",
    "    }\n",
    "    return metrics\n",
    "\n",
    "# Compute Connectivity Metrics\n",
    "try:\n",
    "    metrics = compute_connectivity_metrics(G)\n",
    "    print(\"Network Connectivity Metrics:\")\n",
    "    for key, value in metrics.items():\n",
    "        print(f\"{key}: {value:.2f}\")\n",
    "except Exception as e:\n",
    "    print(f\"Error in computing metrics: {e}\")"
   ]
  },
  {
   "cell_type": "markdown",
   "metadata": {},
   "source": [
    "## Simulate Synaptic Plasticity\n",
    "\n",
    "Define a function to simulate synaptic plasticity (LTP or LTD) on the network by modifying edge weights."
   ]
  },
  {
   "cell_type": "code",
   "execution_count": null,
   "metadata": {},
   "outputs": [],
   "source": [
    "def simulate_synaptic_plasticity(G, stim_node, model='LTP'):\n",
    "    \"\"\"\n",
    "    Simulate synaptic plasticity (LTP or LTD) on a network by modifying edge weights.\n",
    "\n",
    "    Args:\n",
    "        G (Graph): A NetworkX graph object representing the network.\n",
    "        stim_node (int): Node index where the stimulation is applied.\n",
    "        model (str): Type of plasticity model ('LTP' for long-term potentiation, 'LTD' for long-term depression).\n",
    "\n",
    "    Returns:\n",
    "        G_plastic (Graph): Modified graph after simulating plasticity.\n",
    "    \"\"\"\n",
    "    # Copy the graph to avoid modifying the original\n",
    "    G_plastic = G.copy()\n",
    "\n",
    "    # Modify the edge weights based on the type of plasticity\n",
    "    for u, v, data in G_plastic.edges(data=True):\n",
    "        if stim_node in [u, v]:\n",
    "            if model == 'LTP':\n",
    "                G_plastic[u][v]['weight'] = G_plastic[u][v].get('weight', 1) * 1.5  # Potentiate connection\n",
    "            elif model == 'LTD':\n",
    "                G_plastic[u][v]['weight'] = G_plastic[u][v].get('weight', 1) * 0.5  # Depress connection\n",
    "    return G_plastic\n",
    "\n",
    "# Simulate Synaptic Plasticity\n",
    "stim_node = 0  # Node to stimulate\n",
    "try:\n",
    "    G_ltp = simulate_synaptic_plasticity(G, stim_node, model='LTP')\n",
    "    G_ltd = simulate_synaptic_plasticity(G, stim_node, model='LTD')\n",
    "    print(\"Synaptic plasticity simulation completed successfully.\")\n",
    "except Exception as e:\n",
    "    print(f\"Error in simulating plasticity: {e}\")"
   ]
  },
  {
   "cell_type": "markdown",
   "metadata": {},
   "source": [
    "## Visualize Network Connectivity and Plasticity Effects\n",
    "\n",
    "Define a function to visualize the network connectivity and the effects of synaptic plasticity."
   ]
  },
  {
   "cell_type": "code",
   "execution_count": null,
   "metadata": {},
   "outputs": [],
   "source": [
    "def plot_network(G, title='Network Connectivity'):\n",
    "    \"\"\"\n",
    "    Plot the network connectivity with node labels.\n",
    "\n",
    "    Args:\n",
    "        G (Graph): A NetworkX graph object representing the network.\n",
    "        title (str): Title for the plot.\n",
    "    \"\"\"\n",
    "    pos = nx.spring_layout(G)\n",
    "    plt.figure(figsize=(8, 6))\n",
    "    nx.draw(G, pos, with_labels=True, node_color='lightblue', edge_color='gray', node_size=500, font_size=10)\n",
    "    plt.title(title)\n",
    "    plt.show()\n",
    "\n",
    "# Plot Original Network\n",
    "try:\n",
    "    plot_network(G, title='Original Network Connectivity')\n",
    "except Exception as e:\n",
    "    print(f\"Error in plotting original network: {e}\")\n",
    "\n",
    "# Plot Network with LTP\n",
    "try:\n",
    "    plot_network(G_ltp, title='Network with LTP')\n",
    "except Exception as e:\n",
    "    print(f\"Error in plotting network with LTP: {e}\")\n",
    "\n",
    "# Plot Network with LTD\n",
    "try:\n",
    "    plot_network(G_ltd, title='Network with LTD')\n",
    "except Exception as e:\n",
    "    print(f\"Error in plotting network with LTD: {e}\")"
   ]
  },
  {
   "cell_type": "markdown",
   "metadata": {},
   "source": [
    "## Conclusion\n",
    "\n",
    "This notebook provides an interactive environment for analyzing network connectivity and synaptic plasticity. You can modify parameters such as the number of neurons, connection probability, and type of plasticity to explore different network structures and plasticity effects. Future extensions could include different network models or additional plasticity mechanisms."
   ]
  }
 ],
 "metadata": {
  "language_info": {
   "name": "python"
  }
 },
 "nbformat": 4,
 "nbformat_minor": 2
}
