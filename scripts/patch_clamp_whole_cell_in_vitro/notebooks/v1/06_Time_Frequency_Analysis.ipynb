{
 "cells": [
  {
   "cell_type": "markdown",
   "metadata": {},
   "source": [
    "# Time-Frequency Analysis of Intrinsic Oscillations\n",
    "\n",
    "## Introduction\n",
    "This Jupyter Notebook provides a comprehensive workflow for analyzing intrinsic oscillations in electrophysiological data using time-frequency analysis techniques. The analysis involves computing power spectral density (PSD), spectrograms, and coherence between signals to understand oscillatory activity and its modulation."
   ]
  },
  {
   "cell_type": "markdown",
   "metadata": {},
   "source": [
    "## Import Libraries\n",
    "\n",
    "Import the necessary Python libraries for data manipulation, analysis, and visualization."
   ]
  },
  {
   "cell_type": "code",
   "execution_count": null,
   "metadata": {},
   "outputs": [],
   "source": [
    "import numpy as np\n",
    "import matplotlib.pyplot as plt\n",
    "from scipy.signal import spectrogram, welch, coherence, butter, filtfilt\n",
    "import os"
   ]
  },
  {
   "cell_type": "markdown",
   "metadata": {},
   "source": [
    "## Load Electrophysiological Data\n",
    "\n",
    "Define a function to load electrophysiological data from a CSV file. The function will handle errors related to missing files or incorrect data formats."
   ]
  },
  {
   "cell_type": "code",
   "execution_count": null,
   "metadata": {},
   "outputs": [],
   "source": [
    "def load_data(file_path):\n",
    "    \"\"\"\n",
    "    Load electrophysiological data from a CSV file.\n",
    "    \n",
    "    Args:\n",
    "        file_path (str): Path to the input data file.\n",
    "    \n",
    "    Returns:\n",
    "        time (ndarray): Array of time points.\n",
    "        voltage (ndarray): Array of voltage values corresponding to time points.\n",
    "    \n",
    "    Raises:\n",
    "        FileNotFoundError: If the file is not found at the specified path.\n",
    "        ValueError: If the data format is incorrect or missing columns.\n",
    "    \"\"\"\n",
    "    if not os.path.exists(file_path):\n",
    "        raise FileNotFoundError(f\"The file '{file_path}' does not exist.\")\n",
    "    \n",
    "    data = np.loadtxt(file_path, delimiter=',', skiprows=1)\n",
    "    if data.shape[1] < 2:\n",
    "        raise ValueError(\"The input data must contain at least two columns: Time and Voltage.\")\n",
    "    \n",
    "    time = data[:, 0]\n",
    "    voltage = data[:, 1]\n",
    "    \n",
    "    return time, voltage\n",
    "\n",
    "# Example Usage\n",
    "file_path = '../data/intrinsic_oscillations_data.csv'  # Update this path as needed\n",
    "try:\n",
    "    time, voltage = load_data(file_path)\n",
    "    print(\"Data loaded successfully.\")\n",
    "except Exception as e:\n",
    "    print(f\"Error loading data: {e}\")"
   ]
  },
  {
   "cell_type": "markdown",
   "metadata": {},
   "source": [
    "## Compute and Plot Power Spectral Density (PSD)\n",
    "\n",
    "Define a function to compute and plot the power spectral density (PSD) of the electrophysiological signal."
   ]
  },
  {
   "cell_type": "code",
   "execution_count": null,
   "metadata": {},
   "outputs": [],
   "source": [
    "def plot_psd(time, voltage, fs):\n",
    "    \"\"\"\n",
    "    Compute and plot the power spectral density (PSD) of the electrophysiological signal.\n",
    "\n",
    "    Args:\n",
    "        time (ndarray): Array of time points.\n",
    "        voltage (ndarray): Array of voltage values corresponding to time points.\n",
    "        fs (float): Sampling frequency of the data (in Hz).\n",
    "    \"\"\"\n",
    "    f, Pxx = welch(voltage, fs=fs, nperseg=1024)\n",
    "    plt.figure(figsize=(8, 6))\n",
    "    plt.semilogy(f, Pxx)\n",
    "    plt.title('Power Spectral Density (PSD)')\n",
    "    plt.xlabel('Frequency (Hz)')\n",
    "    plt.ylabel('Power/Frequency (dB/Hz)')\n",
    "    plt.grid(True)\n",
    "    plt.show()\n",
    "\n",
    "# Plot PSD\n",
    "fs = 1000  # Sampling frequency in Hz\n",
    "try:\n",
    "    plot_psd(time, voltage, fs)\n",
    "except Exception as e:\n",
    "    print(f\"Error in plotting PSD: {e}\")"
   ]
  },
  {
   "cell_type": "markdown",
   "metadata": {},
   "source": [
    "## Compute and Plot Spectrogram\n",
    "\n",
    "Define a function to compute and plot the spectrogram of the electrophysiological signal."
   ]
  },
  {
   "cell_type": "code",
   "execution_count": null,
   "metadata": {},
   "outputs": [],
   "source": [
    "def plot_spectrogram(time, voltage, fs):\n",
    "    \"\"\"\n",
    "    Compute and plot the spectrogram of the electrophysiological signal.\n",
    "\n",
    "    Args:\n",
    "        time (ndarray): Array of time points.\n",
    "        voltage (ndarray): Array of voltage values corresponding to time points.\n",
    "        fs (float): Sampling frequency of the data (in Hz).\n",
    "    \"\"\"\n",
    "    f, t, Sxx = spectrogram(voltage, fs=fs, nperseg=256, noverlap=128)\n",
    "    plt.figure(figsize=(10, 6))\n",
    "    plt.pcolormesh(t, f, 10 * np.log10(Sxx), shading='gouraud')\n",
    "    plt.title('Spectrogram')\n",
    "    plt.ylabel('Frequency (Hz)')\n",
    "    plt.xlabel('Time (s)')\n",
    "    plt.colorbar(label='Power/Frequency (dB/Hz)')\n",
    "    plt.show()\n",
    "\n",
    "# Plot Spectrogram\n",
    "try:\n",
    "    plot_spectrogram(time, voltage, fs)\n",
    "except Exception as e:\n",
    "    print(f\"Error in plotting spectrogram: {e}\")"
   ]
  },
  {
   "cell_type": "markdown",
   "metadata": {},
   "source": [
    "## Compute and Plot Coherence Between Two Signals\n",
    "\n",
    "Define a function to compute and plot the coherence between two electrophysiological signals."
   ]
  },
  {
   "cell_type": "code",
   "execution_count": null,
   "metadata": {},
   "outputs": [],
   "source": [
    "def plot_coherence(time, voltage1, voltage2, fs):\n",
    "    \"\"\"\n",
    "    Compute and plot the coherence between two electrophysiological signals.\n",
    "\n",
    "    Args:\n",
    "        time (ndarray): Array of time points.\n",
    "        voltage1 (ndarray): Array of voltage values for the first signal.\n",
    "        voltage2 (ndarray): Array of voltage values for the second signal.\n",
    "        fs (float): Sampling frequency of the data (in Hz).\n",
    "    \"\"\"\n",
    "    f, Cxy = coherence(voltage1, voltage2, fs=fs, nperseg=1024)\n",
    "    plt.figure(figsize=(8, 6))\n",
    "    plt.plot(f, Cxy)\n",
    "    plt.title('Coherence between Two Signals')\n",
    "    plt.xlabel('Frequency (Hz)')\n",
    "    plt.ylabel('Coherence')\n",
    "    plt.grid(True)\n",
    "    plt.show()\n",
    "\n",
    "# Simulate another signal for coherence analysis (using filtered noise)\n",
    "try:\n",
    "    b, a = butter(4, [0.1, 0.4], btype='bandpass', fs=fs)\n",
    "    voltage2 = filtfilt(b, a, np.random.normal(size=len(voltage)))\n",
    "\n",
    "    # Plot Coherence between the original and simulated signals\n",
    "    plot_coherence(time, voltage, voltage2, fs)\n",
    "except Exception as e:\n",
    "    print(f\"Error in computing or plotting coherence: {e}\")\n"
   ]
  },
  {
   "cell_type": "markdown",
   "metadata": {},
   "source": [
    "## Conclusion\n",
    "\n",
    "This notebook provides an interactive environment for analyzing intrinsic oscillations in electrophysiological data using time-frequency analysis techniques such as PSD, spectrograms, and coherence. You can adjust parameters like sampling frequency and window size to explore different oscillatory behaviors. Future extensions could include different filtering methods or advanced signal processing techniques."
   ]
  }
 ],
 "metadata": {
  "language_info": {
   "name": "python"
  }
 },
 "nbformat": 4,
 "nbformat_minor": 2
}
