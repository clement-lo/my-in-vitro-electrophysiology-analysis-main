{
 "cells": [
  {
   "cell_type": "markdown",
   "metadata": {},
   "source": [
    "# Synaptic Input-Output Analysis\n",
    "\n",
    "## Introduction\n",
    "This Jupyter Notebook performs synaptic input-output analysis using electrophysiological data. The analysis involves loading synaptic data, fitting a curve (sigmoid or linear), and visualizing the results to understand synaptic behavior under different conditions."
   ]
  },
  {
   "cell_type": "markdown",
   "metadata": {},
   "source": [
    "## Import Libraries\n",
    "Import the necessary Python libraries for data manipulation, analysis, and visualization."
   ]
  },
  {
   "cell_type": "code",
   "execution_count": null,
   "metadata": {},
   "outputs": [],
   "source": [
    "import numpy as np\n",
    "import pandas as pd\n",
    "import matplotlib.pyplot as plt\n",
    "from scipy.optimize import curve_fit\n",
    "import os"
   ]
  },
  {
   "cell_type": "markdown",
   "metadata": {},
   "source": [
    "## Load Data\n",
    "Define a function to load synaptic input-output data from a CSV file. The function will handle errors related to missing files or incorrect data formats."
   ]
  },
  {
   "cell_type": "code",
   "execution_count": null,
   "metadata": {},
   "outputs": [],
   "source": [
    "def load_data(file_path):\n",
    "    \"\"\"\n",
    "    Load synaptic input-output data from a CSV file.\n",
    "    \n",
    "    Args:\n",
    "        file_path (str): Path to the input data file.\n",
    "    \n",
    "    Returns:\n",
    "        data (DataFrame): Loaded data as a Pandas DataFrame.\n",
    "    \n",
    "    Raises:\n",
    "        FileNotFoundError: If the file is not found at the specified path.\n",
    "        ValueError: If the data format is incorrect or missing columns.\n",
    "    \"\"\"\n",
    "    if not os.path.exists(file_path):\n",
    "        raise FileNotFoundError(f\"The file '{file_path}' does not exist.\")\n",
    "    \n",
    "    data = pd.read_csv(file_path)\n",
    "    if 'Input' not in data.columns or 'Output' not in data.columns:\n",
    "        raise ValueError(\"The input data must contain 'Input' and 'Output' columns.\")\n",
    "    \n",
    "    return data\n",
    "\n",
    "# Load the data\n",
    "file_path = '../data/synaptic_io_data.csv'  # Update this path as needed\n",
    "try:\n",
    "    data = load_data(file_path)\n",
    "    display(data.head())  # Show the first few rows of the data\n",
    "except Exception as e:\n",
    "    print(f\"Error loading data: {e}\")"
   ]
  },
  {
   "cell_type": "markdown",
   "metadata": {},
   "source": [
    "## Define Analysis Functions\n",
    "Define a function to perform synaptic input-output analysis using curve fitting. The function will allow users to select different models (sigmoid or linear)."
   ]
  },
  {
   "cell_type": "code",
   "execution_count": null,
   "metadata": {},
   "outputs": [],
   "source": [
    "def analyze_synaptic_io(data, model='sigmoid'):\n",
    "    \"\"\"\n",
    "    Analyze synaptic input-output relationships using curve fitting.\n",
    "    \n",
    "    Args:\n",
    "        data (DataFrame): Synaptic data containing input and output columns.\n",
    "        model (str): The model to use for curve fitting ('sigmoid' or 'linear').\n",
    "    \n",
    "    Returns:\n",
    "        popt (ndarray): Optimal parameters for the fitted curve.\n",
    "        pcov (ndarray): Covariance of the parameters.\n",
    "    \"\"\"\n",
    "    # Validate model type\n",
    "    if model not in ['sigmoid', 'linear']:\n",
    "        raise ValueError(\"Model must be 'sigmoid' or 'linear'.\")\n",
    "    \n",
    "    # Define model functions\n",
    "    def sigmoid(x, a, b, c):\n",
    "        return c / (1 + np.exp(-(x - a) / b))\n",
    "\n",
    "    def linear(x, m, c):\n",
    "        return m * x + c\n",
    "\n",
    "    # Select model for curve fitting\n",
    "    input_data = data['Input'].values\n",
    "    output_data = data['Output'].values\n",
    "    if model == 'sigmoid':\n",
    "        popt, pcov = curve_fit(sigmoid, input_data, output_data, p0=[0, 1, 1])\n",
    "    else:\n",
    "        popt, pcov = curve_fit(linear, input_data, output_data)\n",
    "\n",
    "    return popt, pcov\n",
    "\n",
    "# Perform the analysis\n",
    "model = 'sigmoid'  # Change to 'linear' for a different model\n",
    "try:\n",
    "    popt, pcov = analyze_synaptic_io(data, model=model)\n",
    "    print(\"Optimal parameters:\", popt)\n",
    "except Exception as e:\n",
    "    print(f\"Error in analysis: {e}\")"
   ]
  },
  {
   "cell_type": "markdown",
   "metadata": {},
   "source": [
    "## Plot Results\n",
    "Define a function to visualize the synaptic input-output data and the fitted curve. Include labels, titles, and legends for clarity."
   ]
  },
  {
   "cell_type": "code",
   "execution_count": null,
   "metadata": {},
   "outputs": [],
   "source": [
    "def plot_results(data, popt, model='sigmoid'):\n",
    "    \"\"\"\n",
    "    Plot synaptic input-output data and the fitted curve.\n",
    "    \n",
    "    Args:\n",
    "        data (DataFrame): Synaptic data containing input and output columns.\n",
    "        popt (ndarray): Optimal parameters for the fitted curve.\n",
    "        model (str): The model used for curve fitting ('sigmoid' or 'linear').\n",
    "    \"\"\"\n",
    "    # Define model functions for plotting\n",
    "    def sigmoid(x, a, b, c):\n",
    "        return c / (1 + np.exp(-(x - a) / b))\n",
    "\n",
    "    def linear(x, m, c):\n",
    "        return m * x + c\n",
    "\n",
    "    # Plot data points\n",
    "    plt.scatter(data['Input'], data['Output'], label='Data', color='blue')\n",
    "\n",
    "    # Generate points for fitted curve\n",
    "    x_fit = np.linspace(min(data['Input']), max(data['Input']), 100)\n",
    "    y_fit = sigmoid(x_fit, *popt) if model == 'sigmoid' else linear(x_fit, *popt)\n",
    "\n",
    "    # Plot fitted curve\n",
    "    plt.plot(x_fit, y_fit, label=f'Fitted {model.capitalize()} Curve', color='red')\n",
    "    plt.xlabel('Synaptic Input')\n",
    "    plt.ylabel('Synaptic Output')\n",
    "    plt.title('Synaptic Input-Output Analysis')\n",
    "    plt.legend()\n",
    "    plt.show()\n",
    "\n",
    "# Plot the results\n",
    "try:\n",
    "    plot_results(data, popt, model=model)\n",
    "except Exception as e:\n",
    "    print(f\"Error in plotting: {e}\")"
   ]
  },
  {
   "cell_type": "markdown",
   "metadata": {},
   "source": [
    "## Conclusion\n",
    "This notebook provides a comprehensive workflow for synaptic input-output analysis, including data loading, curve fitting, and visualization.  Modify the dataset and model parameters to explore different scenarios. For further analysis, consider adding more complex models or integrating immunological data."
   ]
  }
 ],
 "metadata": {
  "language_info": {
   "name": "python"
  }
 },
 "nbformat": 4,
 "nbformat_minor": 2
}
