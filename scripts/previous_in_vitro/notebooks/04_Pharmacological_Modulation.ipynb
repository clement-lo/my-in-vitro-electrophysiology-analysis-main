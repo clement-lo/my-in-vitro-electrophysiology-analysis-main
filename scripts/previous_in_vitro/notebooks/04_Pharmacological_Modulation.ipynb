{
 "cells": [
  {
   "cell_type": "markdown",
   "metadata": {},
   "source": [
    "# Pharmacological Modulation Analysis\n",
    "\n",
    "## Introduction\n",
    "This Jupyter Notebook provides a comprehensive workflow for analyzing pharmacological modulation using dose-response curves. The analysis involves simulating dose-response data, fitting the data to a sigmoidal model, and visualizing the results to understand the effects of different drug concentrations on neuronal properties."
   ]
  },
  {
   "cell_type": "markdown",
   "metadata": {},
   "source": [
    "## Import Libraries\n",
    "Import the necessary Python libraries for data manipulation, analysis, and visualization."
   ]
  },
  {
   "cell_type": "code",
   "execution_count": null,
   "metadata": {},
   "outputs": [],
   "source": [
    "import numpy as np\n",
    "import pandas as pd\n",
    "import matplotlib.pyplot as plt\n",
    "from scipy.optimize import curve_fit\n",
    "import os"
   ]
  },
  {
   "cell_type": "markdown",
   "metadata": {},
   "source": [
    "## Simulate Dose-Response Data\n",
    "Define a function to simulate dose-response data using a sigmoidal model. The function will generate response values for given drug concentrations based on parameters such as EC50, Hill coefficient, and maximum response."
   ]
  },
  {
   "cell_type": "code",
   "execution_count": null,
   "metadata": {},
   "outputs": [],
   "source": [
    "def simulate_dose_response(doses, ec50, hill_coefficient, response_max):\n",
    "    \"\"\"\n",
    "    Simulate dose-response data using a sigmoidal model.\n",
    "\n",
    "    Args:\n",
    "        doses (ndarray): Array of drug concentrations (in µM).\n",
    "        ec50 (float): Concentration of the drug that gives half-maximal response (in µM).\n",
    "        hill_coefficient (float): Hill coefficient that describes the slope of the dose-response curve.\n",
    "        response_max (float): Maximum possible response.\n",
    "\n",
    "    Returns:\n",
    "        responses (ndarray): Simulated response values for each concentration in doses.\n",
    "    \"\"\"\n",
    "    responses = response_max * (doses ** hill_coefficient) / (ec50 ** hill_coefficient + doses ** hill_coefficient)\n",
    "    return responses\n",
    "\n",
    "# Example Usage\n",
    "doses = np.array([0.1, 0.3, 1, 3, 10, 30, 100])  # Drug concentrations (in µM)\n",
    "ec50 = 10  # Half-maximal effective concentration (in µM)\n",
    "hill_coefficient = 1  # Hill coefficient\n",
    "response_max = 100  # Maximum response\n",
    "\n",
    "try:\n",
    "    simulated_responses = simulate_dose_response(doses, ec50, hill_coefficient, response_max)\n",
    "    print(\"Simulation completed successfully.\")\n",
    "    print(\"Simulated Responses:\", simulated_responses)\n",
    "except Exception as e:\n",
    "    print(f\"Error in simulation: {e}\")"
   ]
  },
  {
   "cell_type": "markdown",
   "metadata": {},
   "source": [
    "## Fit Dose-Response Data to a Sigmoidal Curve\n",
    "Define a function to fit dose-response data to a sigmoidal model. The function will determine key pharmacological parameters such as EC50 and Hill coefficient."
   ]
  },
  {
   "cell_type": "code",
   "execution_count": null,
   "metadata": {},
   "outputs": [],
   "source": [
    "def fit_dose_response(doses, responses):\n",
    "    \"\"\"\n",
    "    Fit dose-response data to a sigmoidal model to determine EC50 and Hill coefficient.\n",
    "\n",
    "    Args:\n",
    "        doses (ndarray): Array of drug concentrations (in µM).\n",
    "        responses (ndarray): Observed response values for each concentration in doses.\n",
    "\n",
    "    Returns:\n",
    "        popt (ndarray): Optimal parameters (EC50, Hill coefficient, and maximum response).\n",
    "        pcov (ndarray): Covariance of the parameters.\n",
    "    \"\"\"\n",
    "    # Sigmoidal model function for curve fitting\n",
    "    def sigmoid(dose, ec50, hill_coefficient, response_max):\n",
    "        return response_max * (dose ** hill_coefficient) / (ec50 ** hill_coefficient + dose ** hill_coefficient)\n",
    "\n",
    "    # Initial parameter guesses for curve fitting\n",
    "    initial_guess = [np.median(doses), 1, max(responses)]\n",
    "\n",
    "    # Perform curve fitting\n",
    "    popt, pcov = curve_fit(sigmoid, doses, responses, p0=initial_guess)\n",
    "\n",
    "    return popt, pcov\n",
    "\n",
    "# Fit Dose-Response Data\n",
    "try:\n",
    "    popt, pcov = fit_dose_response(doses, simulated_responses)\n",
    "    print(f\"Fitted Parameters: EC50={popt[0]:.2f} µM, Hill Coefficient={popt[1]:.2f}, Max Response={popt[2]:.2f}\")\n",
    "except Exception as e:\n",
    "    print(f\"Error in fitting: {e}\")"
   ]
  },
  {
   "cell_type": "markdown",
   "metadata": {},
   "source": [
    "## Plot Dose-Response Curve\n",
    "Define a function to plot the dose-response data and the fitted sigmoidal model. Include labels, titles, and legends for clarity."
   ]
  },
  {
   "cell_type": "code",
   "execution_count": null,
   "metadata": {},
   "outputs": [],
   "source": [
    "def plot_dose_response(doses, responses, popt):\n",
    "    \"\"\"\n",
    "    Plot the dose-response curve and fitted sigmoidal model.\n",
    "\n",
    "    Args:\n",
    "        doses (ndarray): Array of drug concentrations (in µM).\n",
    "        responses (ndarray): Observed response values for each concentration in doses.\n",
    "        popt (ndarray): Optimal parameters from curve fitting (EC50, Hill coefficient, maximum response).\n",
    "    \"\"\"\n",
    "    # Generate fine doses for plotting the fitted curve\n",
    "    doses_fine = np.logspace(np.log10(min(doses)), np.log10(max(doses)), 100)\n",
    "    \n",
    "    # Calculate the fitted response using the optimized parameters\n",
    "    fitted_responses = popt[2] * (doses_fine ** popt[1]) / (popt[0] ** popt[1] + doses_fine ** popt[1])\n",
    "\n",
    "    # Plot the experimental data\n",
    "    plt.figure(figsize=(8, 6))\n",
    "    plt.scatter(doses, responses, color='blue', label='Observed Data')\n",
    "    \n",
    "    # Plot the fitted curve\n",
    "    plt.plot(doses_fine, fitted_responses, color='red', label=f'Fitted Curve (EC50={popt[0]:.2f} µM)')\n",
    "    plt.xscale('log')\n",
    "    plt.xlabel('Drug Concentration (µM)')\n",
    "    plt.ylabel('Response')\n",
    "    plt.title('Dose-Response Curve')\n",
    "    plt.legend()\n",
    "    plt.grid(True)\n",
    "    plt.show()\n",
    "\n",
    "# Plot Dose-Response Curve\n",
    "try:\n",
    "    plot_dose_response(doses, simulated_responses, popt)\n",
    "except Exception as e:\n",
    "    print(f\"Error in plotting dose-response curve: {e}\")"
   ]
  },
  {
   "cell_type": "markdown",
   "metadata": {},
   "source": [
    "## Conclusion\n",
    "This notebook provides an interactive environment for analyzing pharmacological modulation using dose-response curves. Adjust the parameters set in this analysis - EC50, Hill coefficient, and maximum response to explore different pharmacological effects. Future extensions could include different models or experimental datasets."
   ]
  }
 ],
 "metadata": {
  "language_info": {
   "name": "python"
  }
 },
 "nbformat": 4,
 "nbformat_minor": 2
}
