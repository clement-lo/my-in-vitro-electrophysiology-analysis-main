{
 "cells": [
  {
   "cell_type": "markdown",
   "metadata": {},
   "source": [
    "# Action Potential and Spike Train Analysis\n",
    "\n",
    "## Introduction\n",
    "This Jupyter Notebook provides a comprehensive workflow for analyzing action potential properties and spike train dynamics from electrophysiological data. The analysis includes detecting action potentials, calculating their properties (e.g., amplitude, half-width), and examining spike train dynamics such as firing rate and interspike interval (ISI) distributions."
   ]
  },
  {
   "cell_type": "markdown",
   "metadata": {},
   "source": [
    "## Import Libraries\n",
    "Import the necessary Python libraries for data manipulation, analysis, and visualization."
   ]
  },
  {
   "cell_type": "code",
   "execution_count": null,
   "metadata": {},
   "outputs": [],
   "source": [
    "\n",
    "import numpy as np\n",
    "import pandas as pd\n",
    "import matplotlib.pyplot as plt\n",
    "from scipy.signal import find_peaks\n",
    "import os"
   ]
  },
  {
   "cell_type": "markdown",
   "metadata": {},
   "source": [
    "## Load Data\n",
    "Define a function to load electrophysiology data from a CSV file. This function will handle errors related to missing files or incorrect data formats."
   ]
  },
  {
   "cell_type": "code",
   "execution_count": null,
   "metadata": {},
   "outputs": [],
   "source": [
    "def load_data(file_path):\n",
    "    \"\"\"\n",
    "    Load electrophysiology data from a CSV file.\n",
    "    \n",
    "    Args:\n",
    "        file_path (str): Path to the input data file.\n",
    "    \n",
    "    Returns:\n",
    "        data (DataFrame): Loaded data as a Pandas DataFrame.\n",
    "    \n",
    "    Raises:\n",
    "        FileNotFoundError: If the file is not found at the specified path.\n",
    "        ValueError: If the data format is incorrect or missing columns.\n",
    "    \"\"\"\n",
    "    if not os.path.exists(file_path):\n",
    "        raise FileNotFoundError(f\"The file '{file_path}' does not exist.\")\n",
    "    \n",
    "    data = pd.read_csv(file_path)\n",
    "    if 'Time' not in data.columns or 'Voltage' not in data.columns:\n",
    "        raise ValueError(\"The input data must contain 'Time' and 'Voltage' columns.\")\n",
    "    \n",
    "    return data\n",
    "\n",
    "# Load the data\n",
    "file_path = '../data/action_potential_data.csv'  # Update this path as needed\n",
    "try:\n",
    "    data = load_data(file_path)\n",
    "    display(data.head())  # Show the first few rows of the data\n",
    "except Exception as e:\n",
    "    print(f\"Error loading data: {e}\")"
   ]
  },
  {
   "cell_type": "markdown",
   "metadata": {},
   "source": [
    "## Analyse Action Potentials\n",
    "Define a function to detect action potentials and calculate their properties, such as amplitude and half-width."
   ]
  },
  {
   "cell_type": "code",
   "execution_count": null,
   "metadata": {},
   "outputs": [],
   "source": [
    "def analyze_action_potentials(data, threshold=0):\n",
    "    \"\"\"\n",
    "    Analyze action potential properties in electrophysiology data.\n",
    "\n",
    "    Args:\n",
    "        data (DataFrame): Electrophysiology data containing time and voltage columns.\n",
    "        threshold (float): Voltage threshold for peak detection.\n",
    "\n",
    "    Returns:\n",
    "        ap_properties (DataFrame): DataFrame containing detected AP properties (e.g., amplitude, half-width).\n",
    "    \"\"\"\n",
    "    time = data['Time'].values\n",
    "    voltage = data['Voltage'].values\n",
    "    \n",
    "    # Detect action potentials (APs) using peak detection\n",
    "    peaks, _ = find_peaks(voltage, height=threshold)\n",
    "\n",
    "    # Calculate action potential properties\n",
    "    amplitudes = voltage[peaks]\n",
    "    half_widths = np.diff(peaks) * (time[1] - time[0])  # Rough estimate based on sample rate\n",
    "\n",
    "    ap_properties = pd.DataFrame({\n",
    "        'AP_Index': peaks,\n",
    "        'Amplitude': amplitudes,\n",
    "        'Half_Width': half_widths\n",
    "    })\n",
    "\n",
    "    return ap_properties\n",
    "\n",
    "# Perform AP analysis\n",
    "threshold = 0  # Set the threshold for AP detection\n",
    "try:\n",
    "    ap_properties = analyze_action_potentials(data, threshold=threshold)\n",
    "    display(ap_properties.head())  # Show the first few rows of the AP properties\n",
    "except Exception as e:\n",
    "    print(f\"Error in AP analysis: {e}\")"
   ]
  },
  {
   "cell_type": "markdown",
   "metadata": {},
   "source": [
    "## Analyze Spike Train Dynamics\n",
    "Define a function to analyze spike train dynamics, including firing rate histograms and interspike interval (ISI) distributions."
   ]
  },
  {
   "cell_type": "code",
   "execution_count": null,
   "metadata": {},
   "outputs": [],
   "source": [
    "def analyze_spike_train(ap_properties, bin_size=0.01):\n",
    "    \"\"\"\n",
    "    Analyze spike train dynamics such as firing rate and interspike interval (ISI) distribution.\n",
    "\n",
    "    Args:\n",
    "        ap_properties (DataFrame): DataFrame containing detected action potentials.\n",
    "        bin_size (float): Bin size for calculating firing rate histogram (in seconds).\n",
    "\n",
    "    Returns:\n",
    "        firing_rate_hist (ndarray): Firing rate histogram.\n",
    "        isi_distribution (ndarray): Interspike interval distribution.\n",
    "    \"\"\"\n",
    "    spike_times = ap_properties['AP_Index'].values * (data['Time'][1] - data['Time'][0])  # Convert index to time\n",
    "    \n",
    "    # Calculate ISI (Interspike Interval)\n",
    "    isi = np.diff(spike_times)\n",
    "\n",
    "    # Calculate Firing Rate Histogram\n",
    "    firing_rate_hist, bin_edges = np.histogram(spike_times, bins=np.arange(0, spike_times[-1] + bin_size, bin_size))\n",
    "    \n",
    "    return firing_rate_hist, isi\n",
    "\n",
    "# Analyze spike train\n",
    "bin_size = 0.01  # Bin size for firing rate histogram\n",
    "try:\n",
    "    firing_rate_hist, isi = analyze_spike_train(ap_properties, bin_size=bin_size)\n",
    "except Exception as e:\n",
    "    print(f\"Error in spike train analysis: {e}\")"
   ]
  },
  {
   "cell_type": "markdown",
   "metadata": {},
   "source": [
    "## Plot Results\n",
    "Define a function to visualize the action potential detection, firing rate histogram, and ISI distribution."
   ]
  },
  {
   "cell_type": "code",
   "execution_count": null,
   "metadata": {},
   "outputs": [],
   "source": [
    "def plot_results(data, ap_properties, firing_rate_hist, isi):\n",
    "    \"\"\"\n",
    "    Plot action potential properties, firing rate histogram, and ISI distribution.\n",
    "\n",
    "    Args:\n",
    "        data (DataFrame): Electrophysiology data.\n",
    "        ap_properties (DataFrame): Detected action potential properties.\n",
    "        firing_rate_hist (ndarray): Firing rate histogram.\n",
    "        isi (ndarray): Interspike interval distribution.\n",
    "    \"\"\"\n",
    "    # Plot raw data with detected APs\n",
    "    plt.figure(figsize=(10, 4))\n",
    "    plt.plot(data['Time'], data['Voltage'], label='Voltage Trace')\n",
    "    plt.scatter(data['Time'][ap_properties['AP_Index']], ap_properties['Amplitude'], color='red', label='Detected APs')\n",
    "    plt.xlabel('Time (s)')\n",
    "    plt.ylabel('Voltage (mV)')\n",
    "    plt.title('Action Potential Detection')\n",
    "    plt.legend()\n",
    "    plt.show()\n",
    "\n",
    "    # Plot firing rate histogram\n",
    "    plt.figure(figsize=(10, 4))\n",
    "    plt.hist(firing_rate_hist, bins=50, color='blue', alpha=0.7)\n",
    "    plt.xlabel('Firing Rate (Hz)')\n",
    "    plt.ylabel('Count')\n",
    "    plt.title('Firing Rate Histogram')\n",
    "    plt.show()\n",
    "\n",
    "    # Plot ISI distribution\n",
    "    plt.figure(figsize=(10, 4))\n",
    "    plt.hist(isi, bins=50, color='green', alpha=0.7)\n",
    "    plt.xlabel('Interspike Interval (s)')\n",
    "    plt.ylabel('Count')\n",
    "    plt.title('Interspike Interval (ISI) Distribution')\n",
    "    plt.show()\n",
    "\n",
    "# Plot the results\n",
    "try:\n",
    "    plot_results(data, ap_properties, firing_rate_hist, isi)\n",
    "except Exception as e:\n",
    "    print(f\"Error in plotting: {e}\")"
   ]
  },
  {
   "cell_type": "markdown",
   "metadata": {},
   "source": [
    "## Conclusion\n",
    "\n",
    "This notebook provides a comprehensive workflow for analyzing action potential properties and spike train dynamics from electrophysiological data. Adjust parameters such as the voltage threshold and bin size to explore different scenarios."
   ]
  }
 ],
 "metadata": {
  "language_info": {
   "name": "python"
  }
 },
 "nbformat": 4,
 "nbformat_minor": 2
}
